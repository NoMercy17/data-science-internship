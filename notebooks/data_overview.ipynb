{
 "cells": [
  {
   "cell_type": "code",
   "execution_count": null,
   "id": "87dbbdab",
   "metadata": {},
   "outputs": [
    {
     "name": "stdout",
     "output_type": "stream",
     "text": [
      "=== Sample Data ===\n",
      "\n",
      "=== Basic info ===\n",
      "\n",
      "=== Data Shape ===\n",
      "\n",
      "=== Numerical Columns Summary===\n",
      "\n",
      "=== Categorical Columns Summary ===\n",
      "\n",
      "=== Column names\n",
      "\n",
      "=== Data types ===\n",
      "\n",
      "=== Missing values ===\n",
      "\n",
      "=== Missing value(procents) ===\n",
      "\n",
      "=== Check for duplicates===\n",
      "\n",
      "=== Target variable analysis\n",
      "\n",
      "=== Identify outliers in numerical columns\n",
      "Unnamed: 0: 0 outliers\n",
      "++++++++++++++++++++++++++++++++++++++++++++++++++\n",
      "is_canceled: 0 outliers\n",
      "++++++++++++++++++++++++++++++++++++++++++++++++++\n",
      "lead_time: 237 outliers\n",
      "++++++++++++++++++++++++++++++++++++++++++++++++++\n",
      "arrival_date_year: 0 outliers\n",
      "++++++++++++++++++++++++++++++++++++++++++++++++++\n",
      "arrival_date_week_number: 0 outliers\n",
      "++++++++++++++++++++++++++++++++++++++++++++++++++\n",
      "arrival_date_day_of_month: 0 outliers\n",
      "++++++++++++++++++++++++++++++++++++++++++++++++++\n",
      "stays_in_weekend_nights: 20 outliers\n",
      "++++++++++++++++++++++++++++++++++++++++++++++++++\n",
      "stays_in_week_nights: 270 outliers\n",
      "++++++++++++++++++++++++++++++++++++++++++++++++++\n",
      "adults: 2363 outliers\n",
      "++++++++++++++++++++++++++++++++++++++++++++++++++\n",
      "children: 734 outliers\n",
      "++++++++++++++++++++++++++++++++++++++++++++++++++\n",
      "babies: 66 outliers\n",
      "++++++++++++++++++++++++++++++++++++++++++++++++++\n",
      "is_repeated_guest: 303 outliers\n",
      "++++++++++++++++++++++++++++++++++++++++++++++++++\n",
      "previous_cancellations: 563 outliers\n",
      "++++++++++++++++++++++++++++++++++++++++++++++++++\n",
      "previous_bookings_not_canceled: 286 outliers\n",
      "++++++++++++++++++++++++++++++++++++++++++++++++++\n",
      "booking_changes: 1460 outliers\n",
      "++++++++++++++++++++++++++++++++++++++++++++++++++\n",
      "agent: 0 outliers\n",
      "++++++++++++++++++++++++++++++++++++++++++++++++++\n",
      "company: 7 outliers\n",
      "++++++++++++++++++++++++++++++++++++++++++++++++++\n",
      "days_in_waiting_list: 307 outliers\n",
      "++++++++++++++++++++++++++++++++++++++++++++++++++\n",
      "adr: 287 outliers\n",
      "++++++++++++++++++++++++++++++++++++++++++++++++++\n",
      "required_car_parking_spaces: 581 outliers\n",
      "++++++++++++++++++++++++++++++++++++++++++++++++++\n",
      "total_of_special_requests: 251 outliers\n",
      "++++++++++++++++++++++++++++++++++++++++++++++++++\n",
      "stays_in_weeks_nights: 0 outliers\n",
      "++++++++++++++++++++++++++++++++++++++++++++++++++\n",
      "\n",
      "=== Identify outliers in categorical columns\n"
     ]
    },
    {
     "data": {
      "text/plain": [
       "'hotel: 2 unique elements'"
      ]
     },
     "metadata": {},
     "output_type": "display_data"
    },
    {
     "data": {
      "text/plain": [
       "hotel\n",
       "City Hotel      6612\n",
       "Resort Hotel    3388\n",
       "Name: count, dtype: int64"
      ]
     },
     "metadata": {},
     "output_type": "display_data"
    },
    {
     "name": "stdout",
     "output_type": "stream",
     "text": [
      "--------------------------------------------------\n"
     ]
    },
    {
     "data": {
      "text/plain": [
       "'arrival_date_month: 12 unique elements'"
      ]
     },
     "metadata": {},
     "output_type": "display_data"
    },
    {
     "data": {
      "text/plain": [
       "arrival_date_month\n",
       "August     1147\n",
       "July       1035\n",
       "May         996\n",
       "June        946\n",
       "October     931\n",
       "Name: count, dtype: int64"
      ]
     },
     "metadata": {},
     "output_type": "display_data"
    },
    {
     "name": "stdout",
     "output_type": "stream",
     "text": [
      "--------------------------------------------------\n"
     ]
    },
    {
     "data": {
      "text/plain": [
       "'meal: 5 unique elements'"
      ]
     },
     "metadata": {},
     "output_type": "display_data"
    },
    {
     "data": {
      "text/plain": [
       "meal\n",
       "BB           7718\n",
       "HB           1200\n",
       "SC            895\n",
       "Undefined     116\n",
       "FB             71\n",
       "Name: count, dtype: int64"
      ]
     },
     "metadata": {},
     "output_type": "display_data"
    },
    {
     "name": "stdout",
     "output_type": "stream",
     "text": [
      "--------------------------------------------------\n"
     ]
    },
    {
     "data": {
      "text/plain": [
       "'country: 109 unique elements'"
      ]
     },
     "metadata": {},
     "output_type": "display_data"
    },
    {
     "data": {
      "text/plain": [
       "country\n",
       "PRT    4069\n",
       "GBR    1033\n",
       "FRA     882\n",
       "ESP     694\n",
       "DEU     573\n",
       "Name: count, dtype: int64"
      ]
     },
     "metadata": {},
     "output_type": "display_data"
    },
    {
     "name": "stdout",
     "output_type": "stream",
     "text": [
      "--------------------------------------------------\n"
     ]
    },
    {
     "data": {
      "text/plain": [
       "'market_segment: 7 unique elements'"
      ]
     },
     "metadata": {},
     "output_type": "display_data"
    },
    {
     "data": {
      "text/plain": [
       "market_segment\n",
       "Online TA        4648\n",
       "Offline TA/TO    2074\n",
       "Groups           1730\n",
       "Direct           1058\n",
       "Corporate         413\n",
       "Name: count, dtype: int64"
      ]
     },
     "metadata": {},
     "output_type": "display_data"
    },
    {
     "name": "stdout",
     "output_type": "stream",
     "text": [
      "--------------------------------------------------\n"
     ]
    },
    {
     "data": {
      "text/plain": [
       "'distribution_channel: 4 unique elements'"
      ]
     },
     "metadata": {},
     "output_type": "display_data"
    },
    {
     "data": {
      "text/plain": [
       "distribution_channel\n",
       "TA/TO        8176\n",
       "Direct       1262\n",
       "Corporate     544\n",
       "GDS            18\n",
       "Name: count, dtype: int64"
      ]
     },
     "metadata": {},
     "output_type": "display_data"
    },
    {
     "name": "stdout",
     "output_type": "stream",
     "text": [
      "--------------------------------------------------\n"
     ]
    },
    {
     "data": {
      "text/plain": [
       "'reserved_room_type: 8 unique elements'"
      ]
     },
     "metadata": {},
     "output_type": "display_data"
    },
    {
     "data": {
      "text/plain": [
       "reserved_room_type\n",
       "A    7033\n",
       "D    1492\n",
       "E     523\n",
       "F     236\n",
       "G     159\n",
       "Name: count, dtype: int64"
      ]
     },
     "metadata": {},
     "output_type": "display_data"
    },
    {
     "name": "stdout",
     "output_type": "stream",
     "text": [
      "--------------------------------------------------\n"
     ]
    },
    {
     "data": {
      "text/plain": [
       "'assigned_room_type: 10 unique elements'"
      ]
     },
     "metadata": {},
     "output_type": "display_data"
    },
    {
     "data": {
      "text/plain": [
       "assigned_room_type\n",
       "A    6227\n",
       "D    2064\n",
       "E     678\n",
       "F     320\n",
       "G     204\n",
       "Name: count, dtype: int64"
      ]
     },
     "metadata": {},
     "output_type": "display_data"
    },
    {
     "name": "stdout",
     "output_type": "stream",
     "text": [
      "--------------------------------------------------\n"
     ]
    },
    {
     "data": {
      "text/plain": [
       "'deposit_type: 3 unique elements'"
      ]
     },
     "metadata": {},
     "output_type": "display_data"
    },
    {
     "data": {
      "text/plain": [
       "deposit_type\n",
       "No Deposit    8696\n",
       "Non Refund    1289\n",
       "Refundable      15\n",
       "Name: count, dtype: int64"
      ]
     },
     "metadata": {},
     "output_type": "display_data"
    },
    {
     "name": "stdout",
     "output_type": "stream",
     "text": [
      "--------------------------------------------------\n"
     ]
    },
    {
     "data": {
      "text/plain": [
       "'customer_type: 4 unique elements'"
      ]
     },
     "metadata": {},
     "output_type": "display_data"
    },
    {
     "data": {
      "text/plain": [
       "customer_type\n",
       "Transient          7521\n",
       "Transient-Party    2077\n",
       "Contract            359\n",
       "Group                43\n",
       "Name: count, dtype: int64"
      ]
     },
     "metadata": {},
     "output_type": "display_data"
    },
    {
     "name": "stdout",
     "output_type": "stream",
     "text": [
      "--------------------------------------------------\n"
     ]
    },
    {
     "data": {
      "text/plain": [
       "'reservation_status: 3 unique elements'"
      ]
     },
     "metadata": {},
     "output_type": "display_data"
    },
    {
     "data": {
      "text/plain": [
       "reservation_status\n",
       "Check-Out    6232\n",
       "Canceled     3674\n",
       "No-Show        94\n",
       "Name: count, dtype: int64"
      ]
     },
     "metadata": {},
     "output_type": "display_data"
    },
    {
     "name": "stdout",
     "output_type": "stream",
     "text": [
      "--------------------------------------------------\n"
     ]
    },
    {
     "data": {
      "text/plain": [
       "'reservation_status_date: 853 unique elements'"
      ]
     },
     "metadata": {},
     "output_type": "display_data"
    },
    {
     "data": {
      "text/plain": [
       "reservation_status_date\n",
       "10/21/2015    130\n",
       "11/25/2016     78\n",
       "1/1/2015       66\n",
       "7/6/2015       60\n",
       "1/18/2016      60\n",
       "Name: count, dtype: int64"
      ]
     },
     "metadata": {},
     "output_type": "display_data"
    },
    {
     "name": "stdout",
     "output_type": "stream",
     "text": [
      "--------------------------------------------------\n",
      "\n",
      "=== Data Consistency Checks ===\n",
      "---Non-numeric values in numeric columns---\n",
      "stays_in_weekend_nights: 10000 non-numeric values found\n",
      "Examples: [nan, nan, nan, nan, nan]\n",
      "agent: 10000 non-numeric values found\n",
      "Examples: [nan, nan, nan, nan, nan]\n",
      "company: 10000 non-numeric values found\n",
      "Examples: [nan, nan, nan, nan, nan]\n",
      "adr: 10000 non-numeric values found\n",
      "Examples: [nan, nan, nan, nan, nan]\n",
      "stays_in_weeks_nights: 10000 non-numeric values found\n",
      "Examples: [nan, nan, nan, nan, nan]\n",
      "\n",
      "--- Logical relationship checks ---\n",
      "Bookings with 0 total guests: 18\n",
      "Bookings with 0 nights stay: 57\n",
      "Bookings with negative lead time: 0\n",
      "\n",
      "--- Impossible value checks ---\n",
      "Bookings with negative ADR: 1\n",
      "Bookings with negative previous_cancellations: 0\n",
      "Bookings with negative previous_bookings_not_canceled: 0\n",
      "Bookings with negative booking_changes: 0\n",
      "Bookings with negative days_in_waiting_list: 0\n",
      "Bookings with negative required_car_parking_spaces: 0\n",
      "Bookings with negative total_of_special_requests: 0\n",
      "\n",
      "--- Additional logical checks ---\n",
      "Invalid is_repeated_guest values: 0\n",
      "Bookings with negative adults: 0\n",
      "Bookings with negative children: 0\n",
      "Bookings with negative babies: 0\n",
      "\n",
      "============================================================\n",
      "DATA OVERVIEW COMPLETE - Ready for EDA!\n",
      "============================================================\n"
     ]
    }
   ],
   "source": [
    "import pandas as pd\n",
    "import numpy as np\n",
    "from IPython.display import display\n",
    "\n",
    "# DISPLAY\n",
    "pd.set_option(\"display.max_columns\", None)  # show all columns\n",
    "pd.set_option(\"display.max_rows\", None)  # show all rows\n",
    "pd.set_option(\"display.max_colwidth\", None) # prevent columns from being truncated\n",
    "pd.set_option(\"display.width\", 1000) # widen output window (default is 80....)\n",
    "\n",
    "data = pd.read_csv(\"/home/antonios/Desktop/Practica_de_vara/data-science-internship/data/raw/hotel_booking_cancellation_prediction.csv\")\n",
    "\n",
    "print(\"=== Sample Data ===\")\n",
    "#display(data.sample(1000))\n",
    "\n",
    "print(\"\\n=== Basic info ===\")\n",
    "#display(data.info())\n",
    "\n",
    "print(\"\\n=== Data Shape ===\")\n",
    "#display(f\"Rows: {data.shape[0]}, Columns: {data.shape[1]}\")\n",
    "\n",
    "hotel_data = data.copy()\n",
    "\n",
    "print(\"\\n=== Numerical Columns Summary===\")\n",
    "#display(hotel_data.describe())\n",
    "\n",
    "print(\"\\n=== Categorical Columns Summary ===\")\n",
    "#display(hotel_data.describe(include=\"object\"))\n",
    "\n",
    "print(\"\\n=== Column names\")\n",
    "#display(hotel_data.columns.to_list())\n",
    "\n",
    "print(\"\\n=== Data types ===\")\n",
    "#display(hotel_data.dtypes)\n",
    "\n",
    "print(\"\\n=== Missing values ===\")\n",
    "#display(hotel_data.isnull().sum())\n",
    "\n",
    "print(\"\\n=== Missing value(procents) ===\")\n",
    "#display(hotel_data.isnull().sum()/ len(hotel_data) * 100)\n",
    "\n",
    "print(\"\\n=== Check for duplicates===\")\n",
    "#display(hotel_data.duplicated().sum()) # 0 \n",
    "\n",
    "print(\"\\n=== Target variable analysis\")\n",
    "#hotel_data[\"is_canceled\"].value_counts() # 0 = 6232 , 1 = 3768\n",
    "\n",
    "print(\"\\n=== Identify outliers in numerical columns\")\n",
    "numerical_cols = hotel_data.select_dtypes(include=[\"int64\",\"float64\"]).columns\n",
    "for col in numerical_cols:\n",
    "    Q1 = hotel_data[col].quantile(0.25)\n",
    "    Q2 = hotel_data[col].quantile(0.75)\n",
    "    IQR = Q2 - Q1\n",
    "    outliers = hotel_data[(hotel_data[col] < Q1 - 1.5*IQR) | (hotel_data[col] > Q2 + 1.5*IQR)] # formula to determine an erronate value(outlier)\n",
    "    print(f\"{col}: {len(outliers)} outliers\")\n",
    "    print(\"+\" * 50) \n",
    "\n",
    "\n",
    "print(\"\\n=== Identify outliers in categorical columns\")\n",
    "categorical_columns = hotel_data.select_dtypes(include=\"object\").columns\n",
    "for col in categorical_columns:\n",
    "    display(f\"{col}: {hotel_data[col].nunique()} unique elements\") \n",
    "    display(hotel_data[col].value_counts().head()) # limit to 5 most common values\n",
    "    print(\"-\" * 50)\n",
    " \n",
    "\n",
    "print(\"\\n=== Data Consistency Checks ===\")\n",
    "\n",
    "\n",
    "print(\"---Non-numeric values in numeric columns---\")\n",
    "for col in numerical_cols:\n",
    "    # convert to string and check to find any character that is not digit,comma and dash\n",
    "    non_numeric = hotel_data[col].astype(str).str.contains('[^0-9,-]',regex = True).sum() \n",
    "    if non_numeric > 0:\n",
    "        print(f\"{col}: {non_numeric} non-numeric values found\")\n",
    "        examples = hotel_data[hotel_data[col].astype(str).str.contains('[^0-9.-]', regex=True)][col].head()\n",
    "        print(f\"Examples: {examples.to_list()}\")\n",
    "\n",
    "\n",
    "print(\"\\n--- Logical relationship checks ---\")\n",
    "\n",
    "# total guests > 0\n",
    "zero_guests = hotel_data[(hotel_data[\"adults\"] + hotel_data[\"children\"] + hotel_data[\"babies\"]) == 0] # keeps only the rows where cond true\n",
    "print(f\"Bookings with 0 total guests: {len(zero_guests)}\")\n",
    "\n",
    "\n",
    "# Stay duration > 0\n",
    "zero_nights = hotel_data[(hotel_data['stays_in_weekend_nights'] + hotel_data['stays_in_week_nights']) == 0]\n",
    "print(f\"Bookings with 0 nights stay: {len(zero_nights)}\")\n",
    "\n",
    "# Lead time >=0\n",
    "negative_lead = hotel_data[hotel_data[\"lead_time\"] < 0]\n",
    "print(f\"Bookings with negative lead time: {len(negative_lead)}\")\n",
    "\n",
    "# Impossible values\n",
    "print(\"\\n--- Impossible value checks ---\")\n",
    "# ADR (Average Daily Rate) > 0\n",
    "negative_adr = hotel_data[hotel_data['adr'] < 0]\n",
    "print(f\"Bookings with negative ADR: {len(negative_adr)}\")\n",
    "\n",
    "# Previous cancellations should be >= 0\n",
    "negative_prev_cancel = hotel_data[hotel_data['previous_cancellations'] < 0]\n",
    "print(f\"Bookings with negative previous_cancellations: {len(negative_prev_cancel)}\")\n",
    "\n",
    "# Previous bookings not canceled should be >= 0\n",
    "negative_prev_bookings = hotel_data[hotel_data['previous_bookings_not_canceled'] < 0]\n",
    "print(f\"Bookings with negative previous_bookings_not_canceled: {len(negative_prev_bookings)}\")\n",
    "\n",
    "# Booking changes should be >= 0\n",
    "negative_changes = hotel_data[hotel_data['booking_changes'] < 0]\n",
    "print(f\"Bookings with negative booking_changes: {len(negative_changes)}\")\n",
    "\n",
    "# Days in waiting list should be >= 0\n",
    "negative_waiting = hotel_data[hotel_data['days_in_waiting_list'] < 0]\n",
    "print(f\"Bookings with negative days_in_waiting_list: {len(negative_waiting)}\")\n",
    "\n",
    "# Required car parking spaces should be >= 0\n",
    "negative_parking = hotel_data[hotel_data['required_car_parking_spaces'] < 0]\n",
    "print(f\"Bookings with negative required_car_parking_spaces: {len(negative_parking)}\")\n",
    "\n",
    "# Total special requests should be >= 0\n",
    "negative_requests = hotel_data[hotel_data['total_of_special_requests'] < 0]\n",
    "print(f\"Bookings with negative total_of_special_requests: {len(negative_requests)}\")\n",
    "\n",
    "# 4. Check for logical constraints\n",
    "print(\"\\n--- Additional logical checks ---\")\n",
    "# is_repeated_guest should be 0 or 1\n",
    "invalid_repeated = hotel_data[~hotel_data['is_repeated_guest'].isin([0, 1])]\n",
    "print(f\"Invalid is_repeated_guest values: {len(invalid_repeated)}\")\n",
    "\n",
    "# Adults should be >= 0\n",
    "negative_adults = hotel_data[hotel_data['adults'] < 0]\n",
    "print(f\"Bookings with negative adults: {len(negative_adults)}\")\n",
    "\n",
    "# Children should be >= 0\n",
    "negative_children = hotel_data[hotel_data['children'] < 0]\n",
    "print(f\"Bookings with negative children: {len(negative_children)}\")\n",
    "\n",
    "# Babies should be >= 0\n",
    "negative_babies = hotel_data[hotel_data['babies'] < 0]\n",
    "print(f\"Bookings with negative babies: {len(negative_babies)}\")\n",
    "\n",
    "print(\"\\n\" + \"=\"*60)\n",
    "print(\"DATA OVERVIEW COMPLETE\")\n",
    "print(\"=\"*60)"
   ]
  }
 ],
 "metadata": {
  "kernelspec": {
   "display_name": "ml-project",
   "language": "python",
   "name": "ml-project"
  },
  "language_info": {
   "codemirror_mode": {
    "name": "ipython",
    "version": 3
   },
   "file_extension": ".py",
   "mimetype": "text/x-python",
   "name": "python",
   "nbconvert_exporter": "python",
   "pygments_lexer": "ipython3",
   "version": "3.11.7"
  }
 },
 "nbformat": 4,
 "nbformat_minor": 5
}
