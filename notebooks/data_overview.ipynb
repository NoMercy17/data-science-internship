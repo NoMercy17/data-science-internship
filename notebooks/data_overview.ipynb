{
 "cells": [
  {
   "cell_type": "markdown",
   "id": "7d3eadd3",
   "metadata": {},
   "source": [
    "Libraries and Display options"
   ]
  },
  {
   "cell_type": "code",
   "execution_count": 2,
   "id": "2d80cc50",
   "metadata": {},
   "outputs": [],
   "source": [
    "import pandas as pd\n",
    "import numpy as np\n",
    "from IPython.display import display\n",
    "\n",
    "pd.set_option(\"display.max_columns\", None)\n",
    "pd.set_option(\"display.max_rows\", None)\n",
    "pd.set_option(\"display.max_colwidth\", None)\n",
    "pd.set_option(\"display.width\", 1000)"
   ]
  },
  {
   "cell_type": "code",
   "execution_count": 3,
   "id": "96324190",
   "metadata": {},
   "outputs": [],
   "source": [
    "data = pd.read_csv(\"/home/antonios/Desktop/Practica_de_vara/data-science-internship/data/raw/hotel_booking_cancellation_prediction.csv\")\n",
    "# data_missing = pd.read_csv(\"/home/antonios/Desktop/Practica_de_vara/data-science-internship/data/cleaned/01_missing_values_cleaned.csv\")\n",
    "# data_duplicate = pd.read_csv(\"/home/antonios/Desktop/Practica_de_vara/data-science-internship/data/cleaned/02_duplicates_cleaned.csv\")\n",
    "# data_statistical = pd.read_csv(\"/home/antonios/Desktop/Practica_de_vara/data-science-internship/data/cleaned/03_statistical_outliers_cleaned.csv\")\n",
    "# data_date_errors = pd.read_csv(\"/home/antonios/Desktop/Practica_de_vara/data-science-internship/data/cleaned/04_data_errors_cleaned.csv\")\n",
    "data_dtype = pd.read_pickle(\"/home/antonios/Desktop/Practica_de_vara/data-science-internship/data/cleaned/07_dtypes_cleaned.pkl\")\n",
    "final = pd.read_pickle(\"/home/antonios/Desktop/Practica_de_vara/data-science-internship/data/cleaned/final_cleaned_data.pkl\")\n",
    "encoded_data = pd.read_pickle(\"/home/antonios/Desktop/Practica_de_vara/data-science-internship/data/results/feature_engineered_data.pkl\")\n",
    "# load data "
   ]
  },
  {
   "cell_type": "markdown",
   "id": "6e4a61ac",
   "metadata": {},
   "source": [
    "Initial Data Exploration"
   ]
  },
  {
   "cell_type": "code",
   "execution_count": 19,
   "id": "19d275e6",
   "metadata": {},
   "outputs": [
    {
     "name": "stdout",
     "output_type": "stream",
     "text": [
      "=== Sample Data ===\n"
     ]
    },
    {
     "data": {
      "text/plain": [
       "market_segment\n",
       "Online TA        4573\n",
       "Offline TA/TO    2039\n",
       "Groups           1707\n",
       "Direct           1036\n",
       "Corporate         410\n",
       "Complementary      53\n",
       "Aviation           23\n",
       "Name: count, dtype: int64"
      ]
     },
     "metadata": {},
     "output_type": "display_data"
    },
    {
     "name": "stdout",
     "output_type": "stream",
     "text": [
      "\n",
      "=== Basic info ===\n",
      "\n",
      "=== Data Shape ===\n"
     ]
    }
   ],
   "source": [
    "print(\"=== Sample Data ===\")\n",
    "# display(data.head(10))\n",
    "# display(data_missing.head(10))\n",
    "# display(data_duplicate.head(10))\n",
    "# display(data_statistical.head(10))\n",
    "display(final[\"market_segment\"].value_counts())\n",
    "#display(encoded_data[\"high_risk_segment\"])\n",
    "\n",
    "#display(final[\"deposit_type\"])\n",
    "\n",
    "print(\"\\n=== Basic info ===\")\n",
    "# display(data_dtype.dtypes)\n",
    "\n",
    "print(\"\\n=== Data Shape ===\")\n",
    "\n",
    "#display(f\"Rows: {data.shape[0]}, Columns: {data.shape[1]}\")"
   ]
  },
  {
   "cell_type": "code",
   "execution_count": null,
   "id": "bc37085f",
   "metadata": {},
   "outputs": [],
   "source": []
  },
  {
   "cell_type": "code",
   "execution_count": null,
   "id": "1c88c740",
   "metadata": {},
   "outputs": [],
   "source": [
    "hotel_data = data.copy()\n",
    "# copy dataset for manipulation"
   ]
  },
  {
   "cell_type": "markdown",
   "id": "6f0cd534",
   "metadata": {},
   "source": [
    "Summary of Numerical/Categorical columns"
   ]
  },
  {
   "cell_type": "code",
   "execution_count": null,
   "id": "c41512a7",
   "metadata": {},
   "outputs": [],
   "source": [
    "print(\"\\n=== Numerical Columns Summary===\")\n",
    "display(hotel_data.describe())\n",
    "\n",
    "print(\"\\n=== Categorical Columns Summary ===\")\n",
    "display(hotel_data.describe(include=\"object\"))"
   ]
  },
  {
   "cell_type": "code",
   "execution_count": null,
   "id": "cc2d9e0d",
   "metadata": {},
   "outputs": [],
   "source": []
  },
  {
   "cell_type": "markdown",
   "id": "71817584",
   "metadata": {},
   "source": [
    "Column names and data types"
   ]
  },
  {
   "cell_type": "code",
   "execution_count": null,
   "id": "1a41869e",
   "metadata": {},
   "outputs": [],
   "source": [
    "print(\"\\n=== Column names\")\n",
    "#display(hotel_data.columns.to_list())\n",
    "\n",
    "print(\"\\n=== Data types ===\")\n",
    "display(hotel_data.dtypes)"
   ]
  },
  {
   "cell_type": "markdown",
   "id": "81d3d818",
   "metadata": {},
   "source": [
    "Missing Values Check"
   ]
  },
  {
   "cell_type": "code",
   "execution_count": null,
   "id": "70cb2be9",
   "metadata": {},
   "outputs": [],
   "source": [
    "print(\"\\n=== Missing values ===\")\n",
    "display(hotel_data.isnull().sum())\n",
    "\n",
    "print(\"\\n=== Missing value(procents) ===\")\n",
    "display(hotel_data.isnull().sum()/ len(hotel_data) * 100)"
   ]
  },
  {
   "cell_type": "markdown",
   "id": "45f9f1b0",
   "metadata": {},
   "source": [
    "Check duplicates"
   ]
  },
  {
   "cell_type": "code",
   "execution_count": null,
   "id": "93aa714c",
   "metadata": {},
   "outputs": [],
   "source": [
    "print(\"\\n=== Check for duplicates===\")\n",
    "display(hotel_data.duplicated().sum())"
   ]
  },
  {
   "cell_type": "markdown",
   "id": "b2368b4c",
   "metadata": {},
   "source": [
    "Target variable analysis"
   ]
  },
  {
   "cell_type": "code",
   "execution_count": null,
   "id": "e168771e",
   "metadata": {},
   "outputs": [],
   "source": [
    "print(\"\\n=== Target variable analysis\")\n",
    "hotel_data[\"reserved_room_type\"].value_counts()\n",
    "hotel_data[\"assigned_room_type\"].value_counts()\n",
    "\n",
    "#rint(hotel_data[\"company\"].value_counts().head(5))"
   ]
  },
  {
   "cell_type": "markdown",
   "id": "70561d73",
   "metadata": {},
   "source": [
    "Outliers in Numerical / Categorical columns"
   ]
  },
  {
   "cell_type": "code",
   "execution_count": null,
   "id": "3bd5f22e",
   "metadata": {},
   "outputs": [],
   "source": [
    "print(\"\\n=== Identify outliers in numerical columns\")\n",
    "numerical_cols = hotel_data.select_dtypes(include=[\"int64\",\"float64\"]).columns\n",
    "print(numerical_cols)\n",
    "for col in numerical_cols:\n",
    "    Q1 = hotel_data[col].quantile(0.25)\n",
    "    Q2 = hotel_data[col].quantile(0.75)\n",
    "    IQR = Q2 - Q1\n",
    "    outliers = hotel_data[(hotel_data[col] < Q1 - 1.5*IQR) | (hotel_data[col] > Q2 + 1.5*IQR)]\n",
    "    print(f\"{col}: {len(outliers)} outliers\")\n",
    "    print(\"+\" * 50) \n",
    "\n",
    "print(\"\\n=== Identify outliers in categorical columns\")\n",
    "categorical_columns = hotel_data.select_dtypes(include=\"object\").columns\n",
    "for col in categorical_columns:\n",
    "    display(f\"{col}: {hotel_data[col].nunique()} unique elements\") \n",
    "    display(hotel_data[col].value_counts().head())\n",
    "    print(\"-\" * 50)\n"
   ]
  },
  {
   "cell_type": "markdown",
   "id": "aa153aba",
   "metadata": {},
   "source": [
    "Data consistency checks\n",
    "\n",
    "Non-numeric values in numeric columns"
   ]
  },
  {
   "cell_type": "code",
   "execution_count": null,
   "id": "74a02a37",
   "metadata": {},
   "outputs": [],
   "source": [
    "print(\"---Non-numeric values in numeric columns---\")\n",
    "for col in numerical_cols:\n",
    "    non_numeric = hotel_data[col].astype(str).str.contains('[^0-9,-]', regex=True).sum() \n",
    "    if non_numeric > 0:\n",
    "        print(f\"{col}: {non_numeric} non-numeric values found\")\n",
    "        examples = hotel_data[hotel_data[col].astype(str).str.contains('[^0-9.-]', regex=True)][col].head()\n",
    "        print(f\"Examples: {examples.to_list()}\")\n"
   ]
  },
  {
   "cell_type": "markdown",
   "id": "631bdc7f",
   "metadata": {},
   "source": [
    "Logical Relationship Checks"
   ]
  },
  {
   "cell_type": "code",
   "execution_count": null,
   "id": "a5fc591e",
   "metadata": {},
   "outputs": [],
   "source": [
    "# Total guests > 0\n",
    "zero_guests = hotel_data[(hotel_data[\"adults\"] + hotel_data[\"children\"] + hotel_data[\"babies\"]) == 0]\n",
    "print(f\"Bookings with 0 total guests: {len(zero_guests)}\")\n",
    "\n",
    "# Stay duration > 0\n",
    "zero_nights = hotel_data[(hotel_data['stays_in_weekend_nights'] + hotel_data['stays_in_week_nights']) == 0]\n",
    "print(f\"Bookings with 0 nights stay: {len(zero_nights)}\")\n",
    "\n",
    "# Lead time >=0\n",
    "negative_lead = hotel_data[hotel_data[\"lead_time\"] < 0]\n",
    "print(f\"Bookings with negative lead time: {len(negative_lead)}\")\n",
    "\n",
    "\n",
    "invalid_repeated = hotel_data[~hotel_data['is_repeated_guest'].isin([0, 1])]\n",
    "print(f\"Invalid is_repeated_guest values: {len(invalid_repeated)}\")\n",
    "\n",
    "\n",
    "negative_adults = hotel_data[hotel_data['adults'] < 0]\n",
    "print(f\"Bookings with negative adults: {len(negative_adults)}\")\n",
    "\n",
    "\n",
    "negative_children = hotel_data[hotel_data['children'] < 0]\n",
    "print(f\"Bookings with negative children: {len(negative_children)}\")\n",
    "\n",
    "\n",
    "negative_babies = hotel_data[hotel_data['babies'] < 0]\n",
    "print(f\"Bookings with negative babies: {len(negative_babies)}\")"
   ]
  },
  {
   "cell_type": "markdown",
   "id": "6075420c",
   "metadata": {},
   "source": [
    "Impossible Values"
   ]
  },
  {
   "cell_type": "code",
   "execution_count": null,
   "id": "b0b95ef4",
   "metadata": {},
   "outputs": [],
   "source": [
    "negative_adr = hotel_data[hotel_data['adr'] < 0]\n",
    "print(f\"Bookings with negative ADR: {len(negative_adr)}\")\n",
    "\n",
    "\n",
    "negative_prev_cancel = hotel_data[hotel_data['previous_cancellations'] < 0]\n",
    "print(f\"Bookings with negative previous_cancellations: {len(negative_prev_cancel)}\")\n",
    "\n",
    "\n",
    "negative_prev_bookings = hotel_data[hotel_data['previous_bookings_not_canceled'] < 0]\n",
    "print(f\"Bookings with negative previous_bookings_not_canceled: {len(negative_prev_bookings)}\")\n",
    "\n",
    "\n",
    "negative_changes = hotel_data[hotel_data['booking_changes'] < 0]\n",
    "print(f\"Bookings with negative booking_changes: {len(negative_changes)}\")\n",
    "\n",
    "\n",
    "negative_waiting = hotel_data[hotel_data['days_in_waiting_list'] < 0]\n",
    "print(f\"Bookings with negative days_in_waiting_list: {len(negative_waiting)}\")\n",
    "\n",
    "\n",
    "negative_parking = hotel_data[hotel_data['required_car_parking_spaces'] < 0]\n",
    "print(f\"Bookings with negative required_car_parking_spaces: {len(negative_parking)}\")\n",
    "\n",
    "\n",
    "negative_requests = hotel_data[hotel_data['total_of_special_requests'] < 0]\n",
    "print(f\"Bookings with negative total_of_special_requests: {len(negative_requests)}\")"
   ]
  }
 ],
 "metadata": {
  "kernelspec": {
   "display_name": "ml-project",
   "language": "python",
   "name": "ml-project"
  },
  "language_info": {
   "codemirror_mode": {
    "name": "ipython",
    "version": 3
   },
   "file_extension": ".py",
   "mimetype": "text/x-python",
   "name": "python",
   "nbconvert_exporter": "python",
   "pygments_lexer": "ipython3",
   "version": "3.11.7"
  }
 },
 "nbformat": 4,
 "nbformat_minor": 5
}
